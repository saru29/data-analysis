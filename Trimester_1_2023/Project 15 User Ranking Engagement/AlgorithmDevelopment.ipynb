{
 "cells": [
  {
   "cell_type": "code",
   "execution_count": 96,
   "id": "f3aa8423",
   "metadata": {},
   "outputs": [],
   "source": [
    "# Libraries imported\n",
    "import numpy as np\n",
    "import pandas as pd\n",
    "import matplotlib.pyplot as plt"
   ]
  },
  {
   "cell_type": "code",
   "execution_count": 71,
   "id": "cbbb8c13",
   "metadata": {},
   "outputs": [],
   "source": [
    "# Loading the sample dataset\n",
    "df = pd.read_csv('/Users/salnaqeeb/Downloads/bq-results-20230321-215404-1679435672783.csv')"
   ]
  },
  {
   "cell_type": "code",
   "execution_count": 72,
   "id": "ea3efc36",
   "metadata": {},
   "outputs": [],
   "source": [
    "# Removing unneccessary columns after determining what we need.\n",
    "df = df.drop(columns=['timestamp',\n",
    "                      'tiemstamp_AEST',\n",
    "                      'enhanced_altitude',\n",
    "                      'ascent',\n",
    "                      'grade',\n",
    "                      'calories',\n",
    "                      'enhanced_speed',\n",
    "                      'heart_rate',\n",
    "                      'temperature',\n",
    "                      'cadence',\n",
    "                      'power',\n",
    "                      'gps_accuracy',\n",
    "                      'sessionID',\n",
    "                      'age',\n",
    "                      'gender',\n",
    "                      'weight',\n",
    "                      'FTP'\n",
    "                      ])"
   ]
  },
  {
   "cell_type": "code",
   "execution_count": 73,
   "id": "a5aa7992",
   "metadata": {},
   "outputs": [
    {
     "data": {
      "text/html": [
       "<div>\n",
       "<style scoped>\n",
       "    .dataframe tbody tr th:only-of-type {\n",
       "        vertical-align: middle;\n",
       "    }\n",
       "\n",
       "    .dataframe tbody tr th {\n",
       "        vertical-align: top;\n",
       "    }\n",
       "\n",
       "    .dataframe thead th {\n",
       "        text-align: right;\n",
       "    }\n",
       "</style>\n",
       "<table border=\"1\" class=\"dataframe\">\n",
       "  <thead>\n",
       "    <tr style=\"text-align: right;\">\n",
       "      <th></th>\n",
       "      <th>date_AEST</th>\n",
       "      <th>distance</th>\n",
       "      <th>userID</th>\n",
       "    </tr>\n",
       "  </thead>\n",
       "  <tbody>\n",
       "    <tr>\n",
       "      <th>0</th>\n",
       "      <td>2022-10-31</td>\n",
       "      <td>17.73928</td>\n",
       "      <td>U1000000</td>\n",
       "    </tr>\n",
       "    <tr>\n",
       "      <th>1</th>\n",
       "      <td>2022-11-04</td>\n",
       "      <td>0.03105</td>\n",
       "      <td>U1000000</td>\n",
       "    </tr>\n",
       "    <tr>\n",
       "      <th>2</th>\n",
       "      <td>2022-11-05</td>\n",
       "      <td>13.12674</td>\n",
       "      <td>U1000000</td>\n",
       "    </tr>\n",
       "    <tr>\n",
       "      <th>3</th>\n",
       "      <td>2022-11-05</td>\n",
       "      <td>47.57553</td>\n",
       "      <td>U1000000</td>\n",
       "    </tr>\n",
       "    <tr>\n",
       "      <th>4</th>\n",
       "      <td>2022-11-05</td>\n",
       "      <td>90.03022</td>\n",
       "      <td>U1000000</td>\n",
       "    </tr>\n",
       "  </tbody>\n",
       "</table>\n",
       "</div>"
      ],
      "text/plain": [
       "    date_AEST  distance    userID\n",
       "0  2022-10-31  17.73928  U1000000\n",
       "1  2022-11-04   0.03105  U1000000\n",
       "2  2022-11-05  13.12674  U1000000\n",
       "3  2022-11-05  47.57553  U1000000\n",
       "4  2022-11-05  90.03022  U1000000"
      ]
     },
     "execution_count": 73,
     "metadata": {},
     "output_type": "execute_result"
    }
   ],
   "source": [
    "df.head()"
   ]
  },
  {
   "cell_type": "code",
   "execution_count": 74,
   "id": "a5b3228a",
   "metadata": {},
   "outputs": [
    {
     "name": "stdout",
     "output_type": "stream",
     "text": [
      "          date_AEST  distance    userID\n",
      "0        2022-10-31  17.73928  U1000000\n",
      "1        2022-11-04   0.03105  U1000000\n",
      "2        2022-11-05  13.12674  U1000000\n",
      "3        2022-11-05  47.57553  U1000000\n",
      "4        2022-11-05  90.03022  U1000000\n",
      "...             ...       ...       ...\n",
      "1544679  2022-11-13   8.50000  U1000002\n",
      "1544680  2022-11-05  15.20000  U1000003\n",
      "1544681  2022-11-08  14.30000  U1000003\n",
      "1544682  2022-11-10  13.70000  U1000003\n",
      "1544683  2022-11-11  12.80000  U1000003\n",
      "\n",
      "[1544684 rows x 3 columns]\n"
     ]
    }
   ],
   "source": [
    "# Create a new DataFrame with additional users and rides\n",
    "new_data = pd.DataFrame({\n",
    "    'userID': ['U1000001', 'U1000001', 'U1000001', 'U1000001', 'U1000002', 'U1000002', 'U1000002', 'U1000002',\n",
    "               'U1000003', 'U1000003', 'U1000003', 'U1000003'],\n",
    "    'date_AEST': ['2022-11-05', '2022-11-07', '2022-11-09', '2022-11-12',\n",
    "                  '2022-11-06', '2022-11-08', '2022-11-10', '2022-11-13',\n",
    "                  '2022-11-05', '2022-11-08', '2022-11-10', '2022-11-11'],\n",
    "    'distance': [12.5, 10.3, 8.7, 11.2, 9.1, 7.4, 6.8, 8.5, 15.2, 14.3, 13.7, 12.8]\n",
    "})\n",
    "\n",
    "# Concatenate the new data with the original dataset\n",
    "df = pd.concat([df, new_data], ignore_index=True)\n",
    "\n",
    "# Display the updated dataset\n",
    "print(df)"
   ]
  },
  {
   "cell_type": "markdown",
   "id": "dd5b2663",
   "metadata": {},
   "source": [
    "## Only 4 rows taken of the original dataset for one user, and added 3 other users so that it becomes easier to test."
   ]
  },
  {
   "cell_type": "code",
   "execution_count": 75,
   "id": "c88aecaf",
   "metadata": {},
   "outputs": [
    {
     "name": "stdout",
     "output_type": "stream",
     "text": [
      "          date_AEST  distance    userID\n",
      "0        2022-10-31  17.73928  U1000000\n",
      "1        2022-11-04   0.03105  U1000000\n",
      "2        2022-11-05  13.12674  U1000000\n",
      "3        2022-11-05  47.57553  U1000000\n",
      "1544672  2022-11-05  12.50000  U1000001\n",
      "1544673  2022-11-07  10.30000  U1000001\n",
      "1544674  2022-11-09   8.70000  U1000001\n",
      "1544675  2022-11-12  11.20000  U1000001\n",
      "1544676  2022-11-06   9.10000  U1000002\n",
      "1544677  2022-11-08   7.40000  U1000002\n",
      "1544678  2022-11-10   6.80000  U1000002\n",
      "1544679  2022-11-13   8.50000  U1000002\n",
      "1544680  2022-11-05  15.20000  U1000003\n",
      "1544681  2022-11-08  14.30000  U1000003\n",
      "1544682  2022-11-10  13.70000  U1000003\n",
      "1544683  2022-11-11  12.80000  U1000003\n"
     ]
    }
   ],
   "source": [
    "# Filter the dataset to keep only the first 4 rows for each user\n",
    "df = df.groupby('userID').head(4)\n",
    "\n",
    "# Display the updated dataset\n",
    "print(df)"
   ]
  },
  {
   "cell_type": "code",
   "execution_count": 85,
   "id": "40b0e43a",
   "metadata": {},
   "outputs": [
    {
     "name": "stdout",
     "output_type": "stream",
     "text": [
      "     userID engagement_score\n",
      "0  U1000000                9\n",
      "1  U1000001                6\n",
      "2  U1000002                6\n",
      "3  U1000003                8\n"
     ]
    },
    {
     "name": "stderr",
     "output_type": "stream",
     "text": [
      "/var/folders/pb/m60063kx4bj2x6xcwm1ntqkc0000gn/T/ipykernel_30195/2445266269.py:27: FutureWarning: Series.dt.weekofyear and Series.dt.week have been deprecated. Please use Series.dt.isocalendar().week instead.\n",
      "  max_rides_in_week = user_data.groupby(user_data['date_AEST'].dt.week)['distance'].count().max()\n",
      "/var/folders/pb/m60063kx4bj2x6xcwm1ntqkc0000gn/T/ipykernel_30195/2445266269.py:28: FutureWarning: Series.dt.weekofyear and Series.dt.week have been deprecated. Please use Series.dt.isocalendar().week instead.\n",
      "  score += (user_data.groupby(user_data['date_AEST'].dt.week)['distance'].count() == max_rides_in_week).sum() * 2\n",
      "/var/folders/pb/m60063kx4bj2x6xcwm1ntqkc0000gn/T/ipykernel_30195/2445266269.py:39: FutureWarning: The frame.append method is deprecated and will be removed from pandas in a future version. Use pandas.concat instead.\n",
      "  engagement_scores = engagement_scores.append({'userID': user, 'engagement_score': score}, ignore_index=True)\n",
      "/var/folders/pb/m60063kx4bj2x6xcwm1ntqkc0000gn/T/ipykernel_30195/2445266269.py:27: FutureWarning: Series.dt.weekofyear and Series.dt.week have been deprecated. Please use Series.dt.isocalendar().week instead.\n",
      "  max_rides_in_week = user_data.groupby(user_data['date_AEST'].dt.week)['distance'].count().max()\n",
      "/var/folders/pb/m60063kx4bj2x6xcwm1ntqkc0000gn/T/ipykernel_30195/2445266269.py:28: FutureWarning: Series.dt.weekofyear and Series.dt.week have been deprecated. Please use Series.dt.isocalendar().week instead.\n",
      "  score += (user_data.groupby(user_data['date_AEST'].dt.week)['distance'].count() == max_rides_in_week).sum() * 2\n",
      "/var/folders/pb/m60063kx4bj2x6xcwm1ntqkc0000gn/T/ipykernel_30195/2445266269.py:39: FutureWarning: The frame.append method is deprecated and will be removed from pandas in a future version. Use pandas.concat instead.\n",
      "  engagement_scores = engagement_scores.append({'userID': user, 'engagement_score': score}, ignore_index=True)\n",
      "/var/folders/pb/m60063kx4bj2x6xcwm1ntqkc0000gn/T/ipykernel_30195/2445266269.py:27: FutureWarning: Series.dt.weekofyear and Series.dt.week have been deprecated. Please use Series.dt.isocalendar().week instead.\n",
      "  max_rides_in_week = user_data.groupby(user_data['date_AEST'].dt.week)['distance'].count().max()\n",
      "/var/folders/pb/m60063kx4bj2x6xcwm1ntqkc0000gn/T/ipykernel_30195/2445266269.py:28: FutureWarning: Series.dt.weekofyear and Series.dt.week have been deprecated. Please use Series.dt.isocalendar().week instead.\n",
      "  score += (user_data.groupby(user_data['date_AEST'].dt.week)['distance'].count() == max_rides_in_week).sum() * 2\n",
      "/var/folders/pb/m60063kx4bj2x6xcwm1ntqkc0000gn/T/ipykernel_30195/2445266269.py:39: FutureWarning: The frame.append method is deprecated and will be removed from pandas in a future version. Use pandas.concat instead.\n",
      "  engagement_scores = engagement_scores.append({'userID': user, 'engagement_score': score}, ignore_index=True)\n",
      "/var/folders/pb/m60063kx4bj2x6xcwm1ntqkc0000gn/T/ipykernel_30195/2445266269.py:27: FutureWarning: Series.dt.weekofyear and Series.dt.week have been deprecated. Please use Series.dt.isocalendar().week instead.\n",
      "  max_rides_in_week = user_data.groupby(user_data['date_AEST'].dt.week)['distance'].count().max()\n",
      "/var/folders/pb/m60063kx4bj2x6xcwm1ntqkc0000gn/T/ipykernel_30195/2445266269.py:28: FutureWarning: Series.dt.weekofyear and Series.dt.week have been deprecated. Please use Series.dt.isocalendar().week instead.\n",
      "  score += (user_data.groupby(user_data['date_AEST'].dt.week)['distance'].count() == max_rides_in_week).sum() * 2\n",
      "/var/folders/pb/m60063kx4bj2x6xcwm1ntqkc0000gn/T/ipykernel_30195/2445266269.py:39: FutureWarning: The frame.append method is deprecated and will be removed from pandas in a future version. Use pandas.concat instead.\n",
      "  engagement_scores = engagement_scores.append({'userID': user, 'engagement_score': score}, ignore_index=True)\n"
     ]
    }
   ],
   "source": [
    "# Convert the 'date_AEST' column to a datetime format\n",
    "df['date_AEST'] = pd.to_datetime(df['date_AEST'])\n",
    "\n",
    "# Sort the data by user and date in ascending order\n",
    "df.sort_values(['userID', 'date_AEST'], inplace=True)\n",
    "\n",
    "# Create a new DataFrame to store the engagement scores\n",
    "engagement_scores = pd.DataFrame(columns=['userID', 'engagement_score'])\n",
    "\n",
    "# Calculate the engagement scores for each user\n",
    "for user in df['userID'].unique():\n",
    "    user_data = df[df['userID'] == user]  # Filter data for the current user\n",
    "    score = 0  # Initialize the score for the current user\n",
    "\n",
    "    # Each ride = +1 point\n",
    "    score += user_data.shape[0]\n",
    "\n",
    "    # Riding more than once per day = +1 point\n",
    "    rides_per_day = user_data.groupby(user_data['date_AEST'].dt.date)['distance'].count()\n",
    "    score += (rides_per_day > 1).sum()\n",
    "\n",
    "    # Riding in consecutive days = +2 points\n",
    "    consecutive_days = user_data['date_AEST'].diff().dt.days == 1\n",
    "    score += consecutive_days.sum() * 2\n",
    "    \n",
    "    # Most rides in a week = +2 point\n",
    "    max_rides_in_week = user_data.groupby(user_data['date_AEST'].dt.week)['distance'].count().max()\n",
    "    score += (user_data.groupby(user_data['date_AEST'].dt.week)['distance'].count() == max_rides_in_week).sum() * 2\n",
    "\n",
    "    # Riding after being inactive for 7 days = +5 points\n",
    "    inactive_days = (user_data['date_AEST'].diff().dt.days >= 7).cumsum()\n",
    "    score += (inactive_days > 0).sum() * 5\n",
    "\n",
    "    # Not riding for three consecutive days = -1 point\n",
    "    # not_riding = (user_data['date_AEST'].diff().dt.days >= 3).cumsum()\n",
    "    # score -= (not_riding > 0).sum()\n",
    "\n",
    "    # Append the user's engagement score to the DataFrame\n",
    "    engagement_scores = engagement_scores.append({'userID': user, 'engagement_score': score}, ignore_index=True)\n",
    "\n",
    "# Display the engagement scores\n",
    "print(engagement_scores)"
   ]
  },
  {
   "cell_type": "code",
   "execution_count": 86,
   "id": "ee6228e5",
   "metadata": {},
   "outputs": [
    {
     "name": "stdout",
     "output_type": "stream",
     "text": [
      "Rank 1: User U1000000, Points: 9\n",
      "Rank 2: User U1000003, Points: 8\n",
      "Rank 3: User U1000001, Points: 6\n",
      "Rank 4: User U1000002, Points: 6\n"
     ]
    }
   ],
   "source": [
    "# Rank the users based on their engagement scores\n",
    "ranked_users = engagement_scores.sort_values(by='engagement_score', ascending=False)\n",
    "\n",
    "# Display the ranked users with their points\n",
    "for rank, (user, score) in enumerate(zip(ranked_users['userID'], ranked_users['engagement_score']), start=1):\n",
    "    print(f\"Rank {rank}: User {user}, Points: {score}\")\n"
   ]
  },
  {
   "cell_type": "code",
   "execution_count": 89,
   "id": "9ea0b87e",
   "metadata": {},
   "outputs": [
    {
     "data": {
      "image/png": "[encoded data removed]",
      "text/plain": [
       "<Figure size 1000x600 with 1 Axes>"
      ]
     },
     "metadata": {},
     "output_type": "display_data"
    }
   ],
   "source": [
    "# Plot the ranking\n",
    "plt.figure(figsize=(10, 6))\n",
    "plt.bar(range(len(ranked_users)), ranked_users['engagement_score'], color='black')\n",
    "plt.xlabel('Rank')\n",
    "plt.ylabel('Engagement Score')\n",
    "plt.title('User Engagement Ranking')\n",
    "plt.xticks(range(len(ranked_users)), ranked_users['userID'], rotation='vertical')\n",
    "plt.tight_layout()\n",
    "plt.show()"
   ]
  },
  {
   "cell_type": "code",
   "execution_count": 88,
   "id": "dfca3893",
   "metadata": {},
   "outputs": [
    {
     "name": "stdout",
     "output_type": "stream",
     "text": [
      "   Rank   User ID Engagement Score\n",
      "0     1  U1000000                9\n",
      "3     2  U1000003                8\n",
      "1     3  U1000001                6\n",
      "2     4  U1000002                6\n"
     ]
    }
   ],
   "source": [
    "# Create a DataFrame for the ranking\n",
    "ranking_table = pd.DataFrame({'Rank': range(1, len(ranked_users)+1),\n",
    "                              'User ID': ranked_users['userID'],\n",
    "                              'Engagement Score': ranked_users['engagement_score']})\n",
    "\n",
    "# Display the ranking table\n",
    "print(ranking_table)"
   ]
  },
  {
   "cell_type": "markdown",
   "id": "dea53ec6",
   "metadata": {},
   "source": [
    "## The next part involves only analysis of data after users are ranked"
   ]
  },
  {
   "cell_type": "markdown",
   "id": "0127a952",
   "metadata": {},
   "source": [
    "### Segmentation"
   ]
  },
  {
   "cell_type": "code",
   "execution_count": 94,
   "id": "227acf30",
   "metadata": {},
   "outputs": [],
   "source": [
    "# Define engagement score thresholds for segmentation\n",
    "high_threshold = 10\n",
    "medium_threshold = 5\n",
    "\n",
    "# Assign segments based on engagement scores\n",
    "df['Segment'] = pd.cut(ranked_users['engagement_score'], bins=[-float('inf'), medium_threshold, high_threshold, float('inf')],\n",
    "                       labels=['Low Engagers', 'Medium Engagers', 'High Engagers'])"
   ]
  },
  {
   "cell_type": "code",
   "execution_count": 95,
   "id": "17cc835a",
   "metadata": {},
   "outputs": [
    {
     "name": "stdout",
     "output_type": "stream",
     "text": [
      "                 distance  User Count\n",
      "Segment                              \n",
      "Low Engagers          NaN           0\n",
      "Medium Engagers  19.61815           4\n",
      "High Engagers         NaN           0\n"
     ]
    }
   ],
   "source": [
    "segment_analysis = df.groupby('Segment').agg({'distance': 'mean', 'userID': 'count'}).rename(columns={'userID': 'User Count'})\n",
    "\n",
    "print(segment_analysis)"
   ]
  },
  {
   "cell_type": "code",
   "execution_count": 97,
   "id": "29842de4",
   "metadata": {},
   "outputs": [
    {
     "data": {
      "image/png": "[encoded data removed]",
      "text/plain": [
       "<Figure size 640x480 with 1 Axes>"
      ]
     },
     "metadata": {},
     "output_type": "display_data"
    }
   ],
   "source": [
    "plt.bar(segment_analysis.index, segment_analysis['User Count'])\n",
    "plt.xlabel('Segment')\n",
    "plt.ylabel('User Count')\n",
    "plt.title('User Segmentation')\n",
    "plt.show()"
   ]
  },
  {
   "cell_type": "markdown",
   "id": "6313adc8",
   "metadata": {},
   "source": [
    "### Churn Analysis"
   ]
  },
  {
   "cell_type": "code",
   "execution_count": 105,
   "id": "03368076",
   "metadata": {},
   "outputs": [
    {
     "name": "stdout",
     "output_type": "stream",
     "text": [
      "Average Engagement Score for Churned Users:  6.0\n"
     ]
    }
   ],
   "source": [
    "churn_threshold = 7  # Define the engagement score threshold for churn\n",
    "\n",
    "churned_users = ranked_users[ranked_users['engagement_score'] < churn_threshold]\n",
    "\n",
    "average_score = churned_users['engagement_score'].mean()\n",
    "\n",
    "print(\"Average Engagement Score for Churned Users: \", average_score)"
   ]
  },
  {
   "cell_type": "code",
   "execution_count": 106,
   "id": "62a9b387",
   "metadata": {},
   "outputs": [
    {
     "data": {
      "image/png": "[encoded data removed]",
      "text/plain": [
       "<Figure size 640x480 with 1 Axes>"
      ]
     },
     "metadata": {},
     "output_type": "display_data"
    }
   ],
   "source": [
    "plt.hist(churned_users['engagement_score'], bins=10)\n",
    "plt.xlabel('Engagement Score')\n",
    "plt.ylabel('Frequency')\n",
    "plt.title('Distribution of Engagement Scores for Churned Users')\n",
    "plt.show()"
   ]
  }
 ],
 "metadata": {
  "kernelspec": {
   "display_name": "Python 3 (ipykernel)",
   "language": "python",
   "name": "python3"
  },
  "language_info": {
   "codemirror_mode": {
    "name": "ipython",
    "version": 3
   },
   "file_extension": ".py",
   "mimetype": "text/x-python",
   "name": "python",
   "nbconvert_exporter": "python",
   "pygments_lexer": "ipython3",
   "version": "3.9.13"
  }
 },
 "nbformat": 4,
 "nbformat_minor": 5
}
